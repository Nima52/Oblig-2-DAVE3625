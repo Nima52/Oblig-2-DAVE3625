{
 "cells": [
  {
   "cell_type": "markdown",
   "id": "829f1147",
   "metadata": {},
   "source": [
    "### Algorithm Choice\n",
    "\n",
   ]
  },
  {
   "cell_type": "code",
   "execution_count": 1,
   "id": "c4b78e62",
   "metadata": {},
   "outputs": [
    {
     "data": {
      "text/html": [
       "<div>\n",
       "<style scoped>\n",
       "    .dataframe tbody tr th:only-of-type {\n",
       "        vertical-align: middle;\n",
       "    }\n",
       "\n",
       "    .dataframe tbody tr th {\n",
       "        vertical-align: top;\n",
       "    }\n",
       "\n",
       "    .dataframe thead th {\n",
       "        text-align: right;\n",
       "    }\n",
       "</style>\n",
       "<table border=\"1\" class=\"dataframe\">\n",
       "  <thead>\n",
       "    <tr style=\"text-align: right;\">\n",
       "      <th></th>\n",
       "      <th>date</th>\n",
       "      <th>open_price</th>\n",
       "      <th>high_price</th>\n",
       "      <th>low_price</th>\n",
       "      <th>close_price</th>\n",
       "      <th>volume</th>\n",
       "      <th>adjclose_price</th>\n",
       "    </tr>\n",
       "  </thead>\n",
       "  <tbody>\n",
       "    <tr>\n",
       "      <th>0</th>\n",
       "      <td>2021-01-28</td>\n",
       "      <td>265.000000</td>\n",
       "      <td>483.000000</td>\n",
       "      <td>112.250000</td>\n",
       "      <td>193.600006</td>\n",
       "      <td>58815800.0</td>\n",
       "      <td>193.600006</td>\n",
       "    </tr>\n",
       "    <tr>\n",
       "      <th>1</th>\n",
       "      <td>2021-01-27</td>\n",
       "      <td>354.829987</td>\n",
       "      <td>380.000000</td>\n",
       "      <td>249.000000</td>\n",
       "      <td>347.510010</td>\n",
       "      <td>93396700.0</td>\n",
       "      <td>347.510010</td>\n",
       "    </tr>\n",
       "    <tr>\n",
       "      <th>2</th>\n",
       "      <td>2021-01-26</td>\n",
       "      <td>88.559998</td>\n",
       "      <td>150.000000</td>\n",
       "      <td>80.199997</td>\n",
       "      <td>147.979996</td>\n",
       "      <td>178588000.0</td>\n",
       "      <td>147.979996</td>\n",
       "    </tr>\n",
       "    <tr>\n",
       "      <th>3</th>\n",
       "      <td>2021-01-25</td>\n",
       "      <td>96.730003</td>\n",
       "      <td>159.179993</td>\n",
       "      <td>61.130001</td>\n",
       "      <td>76.790001</td>\n",
       "      <td>177874000.0</td>\n",
       "      <td>76.790001</td>\n",
       "    </tr>\n",
       "    <tr>\n",
       "      <th>4</th>\n",
       "      <td>2021-01-22</td>\n",
       "      <td>42.590000</td>\n",
       "      <td>76.760002</td>\n",
       "      <td>42.320000</td>\n",
       "      <td>65.010002</td>\n",
       "      <td>196784300.0</td>\n",
       "      <td>65.010002</td>\n",
       "    </tr>\n",
       "  </tbody>\n",
       "</table>\n",
       "</div>"
      ],
      "text/plain": [
       "         date  open_price  high_price   low_price  close_price       volume  \\\n",
       "0  2021-01-28  265.000000  483.000000  112.250000   193.600006   58815800.0   \n",
       "1  2021-01-27  354.829987  380.000000  249.000000   347.510010   93396700.0   \n",
       "2  2021-01-26   88.559998  150.000000   80.199997   147.979996  178588000.0   \n",
       "3  2021-01-25   96.730003  159.179993   61.130001    76.790001  177874000.0   \n",
       "4  2021-01-22   42.590000   76.760002   42.320000    65.010002  196784300.0   \n",
       "\n",
       "   adjclose_price  \n",
       "0      193.600006  \n",
       "1      347.510010  \n",
       "2      147.979996  \n",
       "3       76.790001  \n",
       "4       65.010002  "
      ]
     },
     "execution_count": 1,
     "metadata": {},
     "output_type": "execute_result"
    }
   ],
   "source": [
    "import pandas as pd\n",
    "import numpy as np\n",
    "import matplotlib.pyplot as plt\n",
    "import seaborn as sns\n",
    "\n",
    "from sklearn.model_selection import train_test_split\n",
    "from sklearn.linear_model import LinearRegression\n",
    "from sklearn.metrics import mean_squared_error, r2_score\n",
    "from sklearn.feature_selection import RFE\n",
    "\n",
    "\n",
    "#We chose linear regression for this problem because we want to predict the stock price which is a number and not a category,\n",
    "#linear regression is simple, easy to interpret and works well with this kind of machine learning problems,\n",
    "#the regression finds a relationship between the date (or other features) and the stock close price, it is quick and reliable. \n",
    "\n",
    "GME_df = pd.read_csv('https://raw.githubusercontent.com/DAVE3625/Dave3625-Host-2025/refs/heads/main/Mandatory%20Assignments/MA2/data/GME_stock.csv')\n",
    "\n",
    "#Preview of the dataset \n",
    "GME_df.head()"
   ]
  },
  {
   "cell_type": "code",
   "execution_count": 2,
   "id": "61624b72",
   "metadata": {},
   "outputs": [
    {
     "name": "stdout",
     "output_type": "stream",
     "text": [
      "<class 'pandas.core.frame.DataFrame'>\n",
      "RangeIndex: 4773 entries, 0 to 4772\n",
      "Data columns (total 7 columns):\n",
      " #   Column          Non-Null Count  Dtype  \n",
      "---  ------          --------------  -----  \n",
      " 0   date            4773 non-null   object \n",
      " 1   open_price      4773 non-null   float64\n",
      " 2   high_price      4773 non-null   float64\n",
      " 3   low_price       4773 non-null   float64\n",
      " 4   close_price     4773 non-null   float64\n",
      " 5   volume          4773 non-null   float64\n",
      " 6   adjclose_price  4773 non-null   float64\n",
      "dtypes: float64(6), object(1)\n",
      "memory usage: 261.2+ KB\n",
      "None\n"
     ]
    }
   ],
   "source": [
    "#We need to preprocess the data first, the date is a categorical feature, we need to convert the date into a numerical feture\n",
    "print(GME_df.info())  "
   ]
  },
  {
   "cell_type": "code",
   "execution_count": 3,
   "id": "a714d492",
   "metadata": {},
   "outputs": [],
   "source": [
    "#We chose to convert the date to and ordinal number, which is a numerical representation of the date starting from jan 1, year 1,\n",
    "#this seemed like the simplest, though we could have chosen other methods as well.\n",
    "#We can now drop the date column as we don't need it anymore.\n",
    "GME_df['date'] = pd.to_datetime(GME_df['date'])\n",
    "GME_df['date_ordinal'] = GME_df['date'].map(pd.Timestamp.toordinal)\n",
    "GME_df = GME_df.drop(columns=['date'])"
   ]
  },
  {
   "cell_type": "code",
   "execution_count": 4,
   "id": "d470e927",
   "metadata": {},
   "outputs": [
    {
     "name": "stdout",
     "output_type": "stream",
     "text": [
      "<class 'pandas.core.frame.DataFrame'>\n",
      "RangeIndex: 4773 entries, 0 to 4772\n",
      "Data columns (total 7 columns):\n",
      " #   Column          Non-Null Count  Dtype  \n",
      "---  ------          --------------  -----  \n",
      " 0   open_price      4773 non-null   float64\n",
      " 1   high_price      4773 non-null   float64\n",
      " 2   low_price       4773 non-null   float64\n",
      " 3   close_price     4773 non-null   float64\n",
      " 4   volume          4773 non-null   float64\n",
      " 5   adjclose_price  4773 non-null   float64\n",
      " 6   date_ordinal    4773 non-null   int64  \n",
      "dtypes: float64(6), int64(1)\n",
      "memory usage: 261.2 KB\n",
      "None\n"
     ]
    }
   ],
   "source": [
    "#Verifying conversion, all good \n",
    "print(GME_df.info())"
   ]
  },
  {
   "cell_type": "code",
   "execution_count": 5,
   "id": "1a38843a",
   "metadata": {},
   "outputs": [
    {
     "data": {
      "text/plain": [
       "open_price        0\n",
       "high_price        0\n",
       "low_price         0\n",
       "close_price       0\n",
       "volume            0\n",
       "adjclose_price    0\n",
       "date_ordinal      0\n",
       "dtype: int64"
      ]
     },
     "execution_count": 5,
     "metadata": {},
     "output_type": "execute_result"
    }
   ],
   "source": [
    "#Let's also check for any null values\n",
    "GME_df.isnull().sum()"
   ]
  },
  {
   "cell_type": "code",
   "execution_count": 6,
   "id": "d44a34b5",
   "metadata": {},
   "outputs": [
    {
     "data": {
      "text/plain": [
       "np.False_"
      ]
     },
     "execution_count": 6,
     "metadata": {},
     "output_type": "execute_result"
    }
   ],
   "source": [
    "#We can also see that the adjclose_price row has the same data as in the close_price row, if this is the case for all colums,\n",
    "#then we can safely drop this row because this is redundant data.\n",
    "#Let's check if this is the case for all the rows \n",
    "(GME_df['close_price'] == GME_df['adjclose_price']).all()"
   ]
  },
  {
   "cell_type": "code",
   "execution_count": 7,
   "id": "a643213b",
   "metadata": {},
   "outputs": [
    {
     "data": {
      "text/html": [
       "<div>\n",
       "<style scoped>\n",
       "    .dataframe tbody tr th:only-of-type {\n",
       "        vertical-align: middle;\n",
       "    }\n",
       "\n",
       "    .dataframe tbody tr th {\n",
       "        vertical-align: top;\n",
       "    }\n",
       "\n",
       "    .dataframe thead th {\n",
       "        text-align: right;\n",
       "    }\n",
       "</style>\n",
       "<table border=\"1\" class=\"dataframe\">\n",
       "  <thead>\n",
       "    <tr style=\"text-align: right;\">\n",
       "      <th></th>\n",
       "      <th>open_price</th>\n",
       "      <th>high_price</th>\n",
       "      <th>low_price</th>\n",
       "      <th>close_price</th>\n",
       "      <th>volume</th>\n",
       "      <th>adjclose_price</th>\n",
       "      <th>date_ordinal</th>\n",
       "    </tr>\n",
       "  </thead>\n",
       "  <tbody>\n",
       "    <tr>\n",
       "      <th>474</th>\n",
       "      <td>11.540</td>\n",
       "      <td>11.640</td>\n",
       "      <td>11.470</td>\n",
       "      <td>11.580</td>\n",
       "      <td>2191600.0</td>\n",
       "      <td>11.200000</td>\n",
       "      <td>737131</td>\n",
       "    </tr>\n",
       "    <tr>\n",
       "      <th>475</th>\n",
       "      <td>11.280</td>\n",
       "      <td>11.550</td>\n",
       "      <td>11.230</td>\n",
       "      <td>11.470</td>\n",
       "      <td>2164900.0</td>\n",
       "      <td>11.093610</td>\n",
       "      <td>737130</td>\n",
       "    </tr>\n",
       "    <tr>\n",
       "      <th>476</th>\n",
       "      <td>10.980</td>\n",
       "      <td>11.280</td>\n",
       "      <td>10.890</td>\n",
       "      <td>11.260</td>\n",
       "      <td>2703600.0</td>\n",
       "      <td>10.890501</td>\n",
       "      <td>737129</td>\n",
       "    </tr>\n",
       "    <tr>\n",
       "      <th>477</th>\n",
       "      <td>11.070</td>\n",
       "      <td>11.220</td>\n",
       "      <td>10.750</td>\n",
       "      <td>10.970</td>\n",
       "      <td>6171600.0</td>\n",
       "      <td>10.610018</td>\n",
       "      <td>737126</td>\n",
       "    </tr>\n",
       "    <tr>\n",
       "      <th>478</th>\n",
       "      <td>11.560</td>\n",
       "      <td>11.660</td>\n",
       "      <td>11.440</td>\n",
       "      <td>11.590</td>\n",
       "      <td>1811400.0</td>\n",
       "      <td>11.209672</td>\n",
       "      <td>737125</td>\n",
       "    </tr>\n",
       "    <tr>\n",
       "      <th>...</th>\n",
       "      <td>...</td>\n",
       "      <td>...</td>\n",
       "      <td>...</td>\n",
       "      <td>...</td>\n",
       "      <td>...</td>\n",
       "      <td>...</td>\n",
       "      <td>...</td>\n",
       "    </tr>\n",
       "    <tr>\n",
       "      <th>4768</th>\n",
       "      <td>9.600</td>\n",
       "      <td>9.875</td>\n",
       "      <td>9.525</td>\n",
       "      <td>9.875</td>\n",
       "      <td>1723200.0</td>\n",
       "      <td>6.648838</td>\n",
       "      <td>730901</td>\n",
       "    </tr>\n",
       "    <tr>\n",
       "      <th>4769</th>\n",
       "      <td>9.900</td>\n",
       "      <td>9.900</td>\n",
       "      <td>9.375</td>\n",
       "      <td>9.550</td>\n",
       "      <td>1852600.0</td>\n",
       "      <td>6.430017</td>\n",
       "      <td>730900</td>\n",
       "    </tr>\n",
       "    <tr>\n",
       "      <th>4770</th>\n",
       "      <td>10.000</td>\n",
       "      <td>10.025</td>\n",
       "      <td>9.850</td>\n",
       "      <td>9.950</td>\n",
       "      <td>2097400.0</td>\n",
       "      <td>6.699336</td>\n",
       "      <td>730896</td>\n",
       "    </tr>\n",
       "    <tr>\n",
       "      <th>4771</th>\n",
       "      <td>10.175</td>\n",
       "      <td>10.195</td>\n",
       "      <td>9.925</td>\n",
       "      <td>10.000</td>\n",
       "      <td>2755400.0</td>\n",
       "      <td>6.733003</td>\n",
       "      <td>730895</td>\n",
       "    </tr>\n",
       "    <tr>\n",
       "      <th>4772</th>\n",
       "      <td>9.625</td>\n",
       "      <td>10.060</td>\n",
       "      <td>9.525</td>\n",
       "      <td>10.050</td>\n",
       "      <td>19054000.0</td>\n",
       "      <td>6.766666</td>\n",
       "      <td>730894</td>\n",
       "    </tr>\n",
       "  </tbody>\n",
       "</table>\n",
       "<p>4299 rows × 7 columns</p>\n",
       "</div>"
      ],
      "text/plain": [
       "      open_price  high_price  low_price  close_price      volume  \\\n",
       "474       11.540      11.640     11.470       11.580   2191600.0   \n",
       "475       11.280      11.550     11.230       11.470   2164900.0   \n",
       "476       10.980      11.280     10.890       11.260   2703600.0   \n",
       "477       11.070      11.220     10.750       10.970   6171600.0   \n",
       "478       11.560      11.660     11.440       11.590   1811400.0   \n",
       "...          ...         ...        ...          ...         ...   \n",
       "4768       9.600       9.875      9.525        9.875   1723200.0   \n",
       "4769       9.900       9.900      9.375        9.550   1852600.0   \n",
       "4770      10.000      10.025      9.850        9.950   2097400.0   \n",
       "4771      10.175      10.195      9.925       10.000   2755400.0   \n",
       "4772       9.625      10.060      9.525       10.050  19054000.0   \n",
       "\n",
       "      adjclose_price  date_ordinal  \n",
       "474        11.200000        737131  \n",
       "475        11.093610        737130  \n",
       "476        10.890501        737129  \n",
       "477        10.610018        737126  \n",
       "478        11.209672        737125  \n",
       "...              ...           ...  \n",
       "4768        6.648838        730901  \n",
       "4769        6.430017        730900  \n",
       "4770        6.699336        730896  \n",
       "4771        6.733003        730895  \n",
       "4772        6.766666        730894  \n",
       "\n",
       "[4299 rows x 7 columns]"
      ]
     },
     "execution_count": 7,
     "metadata": {},
     "output_type": "execute_result"
    }
   ],
   "source": [
    "#We can see that this is not the case, the two rows have different values, we will therefore keep both the rows\n",
    "GME_df[GME_df['close_price'] != GME_df['adjclose_price']]   "
   ]
  },
  {
   "cell_type": "code",
   "execution_count": 8,
   "id": "28666377",
   "metadata": {},
   "outputs": [
    {
     "data": {
      "image/png": "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",
      "text/plain": [
       "<Figure size 1500x800 with 2 Axes>"
      ]
     },
     "metadata": {},
     "output_type": "display_data"
    }
   ],
   "source": [
    "#We now need to select our features and targets, the assignment says that the input/feature should be the date and the output/target should be the close price,\n",
    "#but if we only pick date as the feature, the model will be innacurate. \n",
    "#Let's check the correlation between the features and see which features are the most imnportat for our model.\n",
    "\n",
    "plt.figure(figsize=(15,8))\n",
    "sns.heatmap(GME_df.corr(), annot=True, cmap='coolwarm', fmt='.2f', linewidths=2)\n",
    "plt.show()\n",
    "\n",
    "#We can see open_price, close_price, high_price, low_price, and adjclose_price all have very high correlations with each other,\n",
    "#this means that they almost move together, if one increases, the others usually do too, as for the date_ordinal feature, it has almost no correlation to the close price "
   ]
  },
  {
   "cell_type": "code",
   "execution_count": 9,
   "id": "d0ae5b4f",
   "metadata": {},
   "outputs": [
    {
     "name": "stdout",
     "output_type": "stream",
     "text": [
      "Selected features: Index(['open_price', 'high_price', 'low_price'], dtype='object')\n"
     ]
    }
   ],
   "source": [
    "#We can also use RFE to check which features are the best to pick, we will pick 3 features \n",
    "\n",
    "model = LinearRegression()\n",
    "\n",
    "rfe = RFE(model, n_features_to_select=3)\n",
    "X = GME_df[['open_price', 'high_price', 'low_price', 'volume', 'date_ordinal']]\n",
    "y = GME_df['close_price']\n",
    "rfe.fit(X, y)\n",
    "\n",
    "selected_features = X.columns[rfe.support_]\n",
    "print('Selected features:', selected_features)"
   ]
  },
  {
   "cell_type": "code",
   "execution_count": 10,
   "id": "a7f0679a",
   "metadata": {},
   "outputs": [
    {
     "name": "stdout",
     "output_type": "stream",
     "text": [
      "Mean Squared Error: 0.208\n",
      "R2 Score: 0.9988\n",
      "Prediction percentage score: 99.88 %\n"
     ]
    }
   ],
   "source": [
    "#We will now train our model with our picked features and target \n",
    "\n",
    "X = GME_df[['open_price', 'high_price', 'low_price']]\n",
    "y = GME_df['close_price']\n",
    "\n",
    "#We will now split the data into training and testing sets, we will test 20% of the dataset \n",
    "X_train, X_test, y_train, y_test = train_test_split(X, y, test_size=0.2, random_state=42)\n",
    "\n",
    "#Training the model \n",
    "model = LinearRegression()\n",
    "model.fit(X_train, y_train)\n",
    "\n",
    "#Then we use our model to predict the close price for the 20% test set \n",
    "y_pred = model.predict(X_test)\n",
    "\n",
    "#We then need to evaluate the model, since stock price is a continous number, a confusion matrix won't work here,\n",
    "#we will instead use regression metrics such as Mean Squared Error (MSE), which tells us how far off the predictions are\n",
    "#and R2 score, which tells us how well the model explains the variation in the data.\n",
    "\n",
    "mse = mean_squared_error(y_test, y_pred)\n",
    "r2 = r2_score(y_test, y_pred)\n",
    "\n",
    "print(\"Mean Squared Error:\", round(mse,3))\n",
    "print(\"R2 Score:\", round(r2,4))\n",
    "print(\"Prediction percentage score:\", round(r2*100, 2), \"%\")\n",
    "\n",
    "#the model is highly accurate, but the 'open_price', 'high_price' and  'low_price' input values are not practial because they \n",
    "#require you to guess them for a future prediciton of the stock price "
   ]
  },
  {
   "cell_type": "code",
   "execution_count": 11,
   "id": "49e965e0",
   "metadata": {},
   "outputs": [
    {
     "name": "stdout",
     "output_type": "stream",
     "text": [
      "Mean Squared Error: 172.261\n",
      "R2 Score: -0.012\n",
      "Prediction percentage score: -1.17 %\n"
     ]
    }
   ],
   "source": [
    "#if we were to only include the date_ordinal feature, we can see that the model would not be accurate \n",
    "\n",
    "X = GME_df[['date_ordinal']]\n",
    "y = GME_df['close_price']\n",
    "\n",
    "X_train, X_test, y_train, y_test = train_test_split(X, y, test_size=0.2, random_state=42)\n",
    "\n",
    "model = LinearRegression()\n",
    "model.fit(X_train, y_train)\n",
    "\n",
    "y_pred = model.predict(X_test)\n",
    "\n",
    "mse = mean_squared_error(y_test, y_pred)\n",
    "r2 = r2_score(y_test, y_pred)\n",
    "\n",
    "print(\"Mean Squared Error:\", round(mse,3))\n",
    "print(\"R2 Score:\", round(r2,3))\n",
    "print(\"Prediction percentage score:\", round(r2*100, 2), \"%\")"
   ]
  },
  {
   "cell_type": "code",
   "execution_count": 12,
   "id": "1fc3290a",
   "metadata": {},
   "outputs": [
    {
     "name": "stdout",
     "output_type": "stream",
     "text": [
      "Mean Squared Error: 0.764\n",
      "R2 Score: 0.996\n",
      "Prediction percentage score: 99.57 %\n"
     ]
    }
   ],
   "source": [
    "#We can instead introduce a new feature of moving averages, which is the average of the stock’s price over a fixed number of past days,\n",
    "#this does not require us to guess future values and instead uses information about recent trends from data that we already have. \n",
    "#We will create a 7-day and 30-day moving average as this covers both short-term trends and long-term trends.\n",
    "\n",
    "GME_df['MA7'] = GME_df['close_price'].rolling(window=7).mean()\n",
    "GME_df['MA30'] = GME_df['close_price'].rolling(window=30).mean()\n",
    "\n",
    "#The first few rows will be nulls because there is not enough data to calculate the moving average, we will remove these \n",
    "GME_df = GME_df.dropna(subset=['MA7', 'MA30'])\n",
    "\n",
    "#Retraining the model with new features \n",
    "X = GME_df[['date_ordinal', 'MA7', 'MA30']]\n",
    "y = GME_df['close_price']\n",
    "\n",
    "X_train, X_test, y_train, y_test = train_test_split(X, y, test_size=0.2, random_state=42)\n",
    "\n",
    "model = LinearRegression()\n",
    "model.fit(X_train, y_train)\n",
    "\n",
    "y_pred = model.predict(X_test)\n",
    "\n",
    "mse = mean_squared_error(y_test, y_pred)\n",
    "r2 = r2_score(y_test, y_pred)\n",
    "\n",
    "print(\"Mean Squared Error:\", round(mse,3))\n",
    "print(\"R2 Score:\", round(r2,3))\n",
    "print(\"Prediction percentage score:\", round(r2*100, 2), \"%\")\n",
    "\n",
    "#This model seems to be more accurate and has more practical features "
   ]
  },
  {
   "cell_type": "code",
   "execution_count": 13,
   "id": "c271f030",
   "metadata": {},
   "outputs": [
    {
     "name": "stdout",
     "output_type": "stream",
     "text": [
      "Predicted close price on 2025-10-15 : 9.94\n"
     ]
    },
    {
     "name": "stderr",
     "output_type": "stream",
     "text": [
      "/home/codespace/.local/lib/python3.12/site-packages/sklearn/utils/validation.py:2749: UserWarning: X does not have valid feature names, but LinearRegression was fitted with feature names\n",
      "  warnings.warn(\n"
     ]
    }
   ],
   "source": [
    "#We can use the previous model to make a future prediction \n",
    "\n",
    "#converting date to ordinal \n",
    "future_date = pd.to_datetime(\"2025-10-15\")  \n",
    "future_date_ordinal = future_date.toordinal()\n",
    "\n",
    "#Calculating 7-day and 30-day moving avrage \n",
    "last_30_days = GME_df['close_price'].tail(30)\n",
    "future_MA7 = last_30_days.tail(7).mean()\n",
    "future_MA30 = last_30_days.mean()\n",
    "\n",
    "#Prediction using the three inputs \n",
    "future_input = [[future_date_ordinal, future_MA7, future_MA30]]\n",
    "predicted_price = model.predict(future_input)\n",
    "\n",
    "print(\"Predicted close price on\", future_date.date(), \":\", round(predicted_price[0],2))\n",
    "\n",
    "#We can see that even though the prediction scores of this model are good, it still is not accurate, if we check the actual stock closing price of 2025.10.15,\n",
    "#which is 23.38 usd, then this tells us that the model is no better than guessing, possible reasons for this could be that there is not enough data or that the\n",
    "#algorithm is too simple for such a complex task which depends on many other unpredictable external factors (news, economic conditons etc.), the model is therefore\n",
    "#very limited \n"
   ]
  }
 ],
 "metadata": {
  "kernelspec": {
   "display_name": "Python 3 (ipykernel)",
   "language": "python",
   "name": "python3"
  },
  "language_info": {
   "codemirror_mode": {
    "name": "ipython",
    "version": 3
   },
   "file_extension": ".py",
   "mimetype": "text/x-python",
   "name": "python",
   "nbconvert_exporter": "python",
   "pygments_lexer": "ipython3",
   "version": "3.12.1"
  }
 },
 "nbformat": 4,
 "nbformat_minor": 5
}
