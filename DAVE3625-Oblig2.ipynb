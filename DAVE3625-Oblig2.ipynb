{
 "cells": [
  {
   "cell_type": "code",
   "execution_count": null,
   "id": "c4b78e62",
   "metadata": {
    "vscode": {
     "languageId": "plaintext"
    }
   },
   "outputs": [],
   "source": [
    "import pandas as pd\n",
    "import numpy as np\n",
    "import matplotlib.pyplot as plt\n",
    "import seaborn as sns\n",
    "\n",
    "from sklearn.model_selection import train_test_split\n",
    "from sklearn.linear_model import LogisticRegression\n",
    "from sklearn.metrics import mean_squared_error, r2_score\n",
    "\n",
    "\n",
    "#We chose linear regression for this problem because we want to predict the stock price which is a number and not a category,\n",
    "#linear regression is simple, easy to interpret and works well with this kind of machine learning problems,\n",
    "#the regression finds a relationship between the date and the stock price, it is quick and reliable. \n",
    "\n",
    "GME_df = pd.read_csv('https://raw.githubusercontent.com/DAVE3625/Dave3625-Host-2025/refs/heads/main/Mandatory%20Assignments/MA2/data/GME_stock.csv')\n",
    "\n",
    "#Preview of the dataset \n",
    "GME_df.head()"
   ]
  },
  {
   "cell_type": "code",
   "execution_count": null,
   "id": "a5b6ae5b",
   "metadata": {
    "vscode": {
     "languageId": "plaintext"
    }
   },
   "outputs": [],
   "source": [
    "#We need to preprocess the data first\n",
    "#We can see that the date is a categorical feature, we need to convert the date into a numerical feture\n",
    "print(GME_df.info())  "
   ]
  },
  {
   "cell_type": "code",
   "execution_count": null,
   "id": "0c944e18",
   "metadata": {
    "vscode": {
     "languageId": "plaintext"
    }
   },
   "outputs": [],
   "source": [
    "#Conversion of the date from string to an ordinal number, which is a numerical representation of the date starting from jan 1, year 1\n",
    "GME_df['date'] = pd.to_datetime(GME_df['date'])\n",
    "GME_df['date_ordinal'] = GME_df['date'].map(pd.Timestamp.toordinal)"
   ]
  },
  {
   "cell_type": "code",
   "execution_count": null,
   "id": "f61214c0",
   "metadata": {
    "vscode": {
     "languageId": "plaintext"
    }
   },
   "outputs": [],
   "source": [
    "#Verifying conversion, all good \n",
    "print(GME_df.info())"
   ]
  },
  {
   "cell_type": "code",
   "execution_count": null,
   "id": "ceb89fc1",
   "metadata": {
    "vscode": {
     "languageId": "plaintext"
    }
   },
   "outputs": [],
   "source": [
    "#Let's also check for any null values, there are none \n",
    "GME_df.isnull().sum()"
   ]
  },
  {
   "cell_type": "code",
   "execution_count": null,
   "id": "71ba3738",
   "metadata": {
    "vscode": {
     "languageId": "plaintext"
    }
   },
   "outputs": [],
   "source": [
    "#We can also see that the adjclose_price row has the same data as in the close_price row, if this is the case for all colums,\n",
    "#then we can safely drop this row because this is redundant data.\n",
    "#Let's check if this is the case for all the rows \n",
    "(GME_df['close_price'] == GME_df['adjclose_price']).all()"
   ]
  },
  {
   "cell_type": "code",
   "execution_count": null,
   "id": "6f5a9aac",
   "metadata": {
    "vscode": {
     "languageId": "plaintext"
    }
   },
   "outputs": [],
   "source": [
    "#We can see that this is not the case, the two rows have different values, we will therefore keep both the rows\n",
    "GME_df[GME_df['close_price'] != GME_df['adjclose_price']]   "
   ]
  },
  {
   "cell_type": "code",
   "execution_count": null,
   "id": "e17c6fa8",
   "metadata": {
    "vscode": {
     "languageId": "plaintext"
    }
   },
   "outputs": [],
   "source": [
    "#We now need to select our features and targets, the assignment says that the input should be the date and the output should be the close price,\n",
    "#we will therefore pick those two to keep it simple \n",
    "X = GME_df[['date_ordinal']]\n",
    "y = GME_df['close_price']\n",
    "\n",
    "#We will now split the data into training and testing sets, we will test 20% of the dataset \n",
    "X_train, X_test, y_train, y_test = train_test_split(X, y, test_size=0.2, random_state=42)\n",
    "\n",
    "#Training the model \n",
    "model = LinearRegression()\n",
    "model.fit(X_train, y_train)\n",
    "\n",
    "#Then we use our model to predict the close price for the 20% test set \n",
    "y_pred = model.predict(X_test)\n",
    "\n",
    "#We then need to evaluate the model, since predicting stock price is a continous number, a confusion matrix won't work here,\n",
    "#we will instead use regression metrics such as Mean Squared Error (MSE), which tells us how far off the predictions are\n",
    "#and R² score, which tells us how well the model explains the variation in the data.\n",
    "\n",
    "mse = mean_squared_error(y_test, y_pred)\n",
    "r2 = r2_score(y_test, y_pred)\n",
    "\n",
    "print(\"Mean Squared Error:\", mse)\n",
    "print(\"R² Score:\", r2)\n",
    "\n",
    "#the model is not accurate at all, need to add more features or change the regression model "
   ]
  }
 ],
 "metadata": {
  "kernelspec": {
   "display_name": "Python 3",
   "language": "python",
   "name": "python3"
  },
  "language_info": {
   "name": "python",
   "version": "3.12.11"
  }
 },
 "nbformat": 4,
 "nbformat_minor": 5
}
